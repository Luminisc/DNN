{
 "cells": [
  {
   "cell_type": "code",
   "execution_count": null,
   "metadata": {},
   "outputs": [],
   "source": [
    "import mxnet as mx\n",
    "import logging\n",
    "import os\n",
    "from gluoncv.utils import viz"
   ]
  },
  {
   "cell_type": "code",
   "execution_count": null,
   "metadata": {},
   "outputs": [],
   "source": [
    "mx.random.seed(42)"
   ]
  },
  {
   "cell_type": "code",
   "execution_count": null,
   "metadata": {},
   "outputs": [],
   "source": [
    "batch_size = 10"
   ]
  },
  {
   "cell_type": "code",
   "execution_count": null,
   "metadata": {},
   "outputs": [],
   "source": [
    "os.environ[\"PATH\"] += os.pathsep + 'C:/Program Files (x86)/Graphviz2.38/bin/'"
   ]
  },
  {
   "cell_type": "code",
   "execution_count": null,
   "metadata": {},
   "outputs": [],
   "source": [
    "train_iter = mx.io.ImageRecordIter (\n",
    "  path_imgrec = os.path.join(r'C:\\Users\\konst\\mxnet\\image_data\\train_data', 'train_image_128x128.rec'),\n",
    "  path_imgidx = os.path.join(r'C:\\Users\\konst\\mxnet\\image_data\\train_data', 'train_image_128x128.idx'),  \n",
    "  data_shape = (3, 128, 128),\n",
    "  batch_size = batch_size,\n",
    ")"
   ]
  },
  {
   "cell_type": "code",
   "execution_count": null,
   "metadata": {},
   "outputs": [],
   "source": [
    "test_iter = mx.io.ImageRecordIter (\n",
    "  path_imgrec = os.path.join(r'C:\\Users\\konst\\mxnet\\image_data\\test_data', 'test_image_128x128.rec'),\n",
    "  path_imgidx = os.path.join(r'C:\\Users\\konst\\mxnet\\image_data\\test_data', 'test_image_128x128.idx'),  \n",
    "  data_shape = (3, 128, 128),\n",
    "  batch_size = batch_size,\n",
    ")"
   ]
  },
  {
   "cell_type": "code",
   "execution_count": null,
   "metadata": {},
   "outputs": [],
   "source": [
    "data = mx.sym.var('data')\n",
    "data = mx.sym.flatten(data = data)"
   ]
  },
  {
   "cell_type": "code",
   "execution_count": null,
   "metadata": {},
   "outputs": [],
   "source": [
    "for batch in test_iter:\n",
    "    viz.plot_image(mx.nd.transpose(batch.data[0][0], (1, 2, 0)))\n",
    "    break"
   ]
  },
  {
   "cell_type": "code",
   "execution_count": null,
   "metadata": {},
   "outputs": [],
   "source": [
    "data = mx.sym.var('data')\n",
    "\n",
    "#первый свёрточный\n",
    "conv1 = mx.sym.Convolution(data = data, kernel = (5, 5), num_filter = 96, pad = (2, 2), stride = (2, 2))\n",
    "tanh1 = mx.sym.Activation(data = conv1, act_type = \"tanh\")\n",
    "pool1 = mx.sym.Pooling(data = tanh1, pool_type = \"max\", kernel = (3, 3), stride = (2, 2))\n",
    "\n",
    "#второй свёрточный\n",
    "conv2 = mx.sym.Convolution(data = pool1, kernel = (5, 5), num_filter = 256, pad = (2, 2), stride = (2, 2))\n",
    "tanh2 = mx.sym.Activation(data = conv2, act_type = \"tanh\")\n",
    "pool2 = mx.sym.Pooling(data = tanh2, pool_type = \"max\", kernel = (3, 3), stride = (2, 2))\n",
    "\n",
    "#3 свёрточный\n",
    "conv3 = mx.sym.Convolution(data = pool2, kernel = (3, 3), num_filter = 384, pad = (1, 1))\n",
    "tanh3 = mx.sym.Activation(data = conv3, act_type = \"tanh\")\n",
    "pool3 = mx.sym.Pooling(data = tanh3, pool_type = \"max\", kernel = (3, 3), stride = (2, 2))\n",
    "\n",
    "#4 свёрточный\n",
    "conv4 = mx.sym.Convolution(data = pool3, kernel = (3, 3), num_filter = 384, pad = (1, 1))\n",
    "tanh4 = mx.sym.Activation(data = conv4, act_type = \"tanh\")\n",
    "pool4 = mx.sym.Pooling(data = tanh4, pool_type = \"max\", kernel = (3, 3), stride = (2, 2))\n",
    "\n",
    "#5 свёрточный\n",
    "conv5 = mx.sym.Convolution(data = pool4, kernel = (3, 3), num_filter = 256, pad = (2, 2))\n",
    "tanh5 = mx.sym.Activation(data = conv5, act_type = \"tanh\")\n",
    "pool5 = mx.sym.Pooling(data = tanh5, pool_type = \"max\", kernel = (3, 3), stride = (2, 2))\n",
    "\n",
    "#первый\n",
    "flatten = mx.sym.flatten(data = pool5) \n",
    "fc1 = mx.symbol.FullyConnected(data = flatten, num_hidden = 4096)\n",
    "tanh5 = mx.sym.Activation(data = fc1, act_type = \"tanh\")\n",
    "\n",
    "fc2 = mx.symbol.FullyConnected(data = tanh5, num_hidden = 1024)\n",
    "tanh6 = mx.sym.Activation(data = fc2, act_type = \"tanh\")\n",
    "\n",
    "#выход\n",
    "fc3 = mx.sym.FullyConnected(data = tanh6, num_hidden = 5)\n",
    "lenet = mx.sym.SoftmaxOutput(data = fc3, name = 'softmax')"
   ]
  },
  {
   "cell_type": "code",
   "execution_count": null,
   "metadata": {},
   "outputs": [],
   "source": [
    "logging.getLogger().setLevel(logging.DEBUG)\n",
    "\n",
    "\n",
    "lenet_model = mx.mod.Module(symbol = lenet, context = mx.gpu())\n",
    "\n",
    "lenet_model.fit(train_iter,\n",
    "                eval_data = test_iter,\n",
    "                optimizer = 'sgd',\n",
    "                optimizer_params = {'learning_rate':0.1},\n",
    "                eval_metric = 'acc',\n",
    "                batch_end_callback = mx.callback.Speedometer(batch_size, 100),\n",
    "                num_epoch = 5)"
   ]
  },
  {
   "cell_type": "code",
   "execution_count": null,
   "metadata": {},
   "outputs": [],
   "source": [
    "mx.viz.plot_network(lenet)"
   ]
  }
 ],
 "metadata": {
  "kernelspec": {
   "display_name": "Python 3",
   "language": "python",
   "name": "python3"
  },
  "language_info": {
   "codemirror_mode": {
    "name": "ipython",
    "version": 3
   },
   "file_extension": ".py",
   "mimetype": "text/x-python",
   "name": "python",
   "nbconvert_exporter": "python",
   "pygments_lexer": "ipython3",
   "version": "3.7.0"
  }
 },
 "nbformat": 4,
 "nbformat_minor": 2
}
