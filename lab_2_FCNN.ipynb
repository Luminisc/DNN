{
 "cells": [
  {
   "cell_type": "code",
   "execution_count": null,
   "metadata": {},
   "outputs": [],
   "source": [
    "import mxnet as mx\n",
    "import logging\n",
    "import os\n",
    "from gluoncv.utils import viz"
   ]
  },
  {
   "cell_type": "code",
   "execution_count": null,
   "metadata": {},
   "outputs": [],
   "source": [
    "mx.random.seed(42)"
   ]
  },
  {
   "cell_type": "code",
   "execution_count": null,
   "metadata": {},
   "outputs": [],
   "source": [
    "batch_size = 10"
   ]
  },
  {
   "cell_type": "code",
   "execution_count": null,
   "metadata": {},
   "outputs": [],
   "source": [
    "os.environ[\"PATH\"] += os.pathsep + 'C:/Program Files (x86)/Graphviz2.38/bin/'"
   ]
  },
  {
   "cell_type": "code",
   "execution_count": null,
   "metadata": {},
   "outputs": [],
   "source": [
    "train_iter = mx.io.ImageRecordIter (\n",
    "  path_imgrec = os.path.join(r'C:\\Users\\konst\\mxnet\\image_data\\train_data', 'train_image_128x128.rec'),\n",
    "  path_imgidx = os.path.join(r'C:\\Users\\konst\\mxnet\\image_data\\train_data', 'train_image_128x128.idx'),  \n",
    "  data_shape = (3, 128, 128),\n",
    "  batch_size = batch_size,\n",
    ")"
   ]
  },
  {
   "cell_type": "code",
   "execution_count": null,
   "metadata": {},
   "outputs": [],
   "source": [
    "test_iter = mx.io.ImageRecordIter (\n",
    "  path_imgrec = os.path.join(r'C:\\Users\\konst\\mxnet\\image_data\\test_data', 'test_image_128x128.rec'),\n",
    "  path_imgidx = os.path.join(r'C:\\Users\\konst\\mxnet\\image_data\\test_data', 'test_image_128x128.idx'),  \n",
    "  data_shape = (3, 128, 128),\n",
    "  batch_size = batch_size,\n",
    ")"
   ]
  },
  {
   "cell_type": "code",
   "execution_count": null,
   "metadata": {},
   "outputs": [],
   "source": [
    "data = mx.sym.var('data')\n",
    "data = mx.sym.flatten(data = data)"
   ]
  },
  {
   "cell_type": "code",
   "execution_count": null,
   "metadata": {},
   "outputs": [],
   "source": [
    "for batch in test_iter:\n",
    "    viz.plot_image(mx.nd.transpose(batch.data[0][0], (1, 2, 0)))\n",
    "    break"
   ]
  },
  {
   "cell_type": "code",
   "execution_count": null,
   "metadata": {},
   "outputs": [],
   "source": [
    "fc1  = mx.sym.FullyConnected(data = data, num_hidden = 7000)\n",
    "act1 = mx.sym.Activation(data = fc1, act_type = \"tanh\")\n",
    "\n",
    "fc2  = mx.sym.FullyConnected(data = act1, num_hidden = 2000)\n",
    "act2 = mx.sym.Activation(data = fc2, act_type = \"tanh\")\n",
    "\n",
    "fc3  = mx.sym.FullyConnected(data = act2, num_hidden = 1000)\n",
    "act3 = mx.sym.Activation(data = fc3, act_type = \"relu\")\n",
    "\n",
    "fc4  = mx.sym.FullyConnected(data = act3, num_hidden = 100)\n",
    "act4 = mx.sym.Activation(data = fc4, act_type = \"relu\")\n",
    "\n",
    "fc5  = mx.sym.FullyConnected(data = act4, num_hidden = 5)\n",
    "mlp  = mx.sym.SoftmaxOutput(data = fc5, name = 'softmax')"
   ]
  },
  {
   "cell_type": "code",
   "execution_count": null,
   "metadata": {},
   "outputs": [],
   "source": [
    "logging.getLogger().setLevel(logging.DEBUG)\n",
    "\n",
    "mlp_model = mx.mod.Module(symbol = mlp, context =  mx.gpu())\n",
    "\n",
    "mlp_model.fit(train_iter,\n",
    "              eval_data = test_iter,\n",
    "              optimizer = 'sgd',\n",
    "              optimizer_params = {'learning_rate': 0.01},\n",
    "              eval_metric = 'acc',\n",
    "              batch_end_callback = mx.callback.Speedometer(batch_size, 100),\n",
    "              num_epoch = 5)"
   ]
  },
  {
   "cell_type": "code",
   "execution_count": null,
   "metadata": {},
   "outputs": [],
   "source": [
    "mx.viz.plot_network(lenet)"
   ]
  }
 ],
 "metadata": {
  "kernelspec": {
   "display_name": "Python 3",
   "language": "python",
   "name": "python3"
  },
  "language_info": {
   "codemirror_mode": {
    "name": "ipython",
    "version": 3
   },
   "file_extension": ".py",
   "mimetype": "text/x-python",
   "name": "python",
   "nbconvert_exporter": "python",
   "pygments_lexer": "ipython3",
   "version": "3.7.0"
  }
 },
 "nbformat": 4,
 "nbformat_minor": 2
}
